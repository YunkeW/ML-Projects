{
 "cells": [
  {
   "cell_type": "code",
   "execution_count": 13,
   "metadata": {},
   "outputs": [],
   "source": [
    "import pandas as pd\n",
    "import matplotlib.pyplot as plt\n",
    "import seaborn as sns"
   ]
  },
  {
   "cell_type": "markdown",
   "metadata": {},
   "source": [
    "Data Preparation"
   ]
  },
  {
   "cell_type": "code",
   "execution_count": 14,
   "metadata": {},
   "outputs": [
    {
     "name": "stdout",
     "output_type": "stream",
     "text": [
      "City preveiw:\n"
     ]
    },
    {
     "data": {
      "text/html": [
       "<div>\n",
       "<style scoped>\n",
       "    .dataframe tbody tr th:only-of-type {\n",
       "        vertical-align: middle;\n",
       "    }\n",
       "\n",
       "    .dataframe tbody tr th {\n",
       "        vertical-align: top;\n",
       "    }\n",
       "\n",
       "    .dataframe thead th {\n",
       "        text-align: right;\n",
       "    }\n",
       "</style>\n",
       "<table border=\"1\" class=\"dataframe\">\n",
       "  <thead>\n",
       "    <tr style=\"text-align: right;\">\n",
       "      <th></th>\n",
       "      <th>City</th>\n",
       "      <th>Population</th>\n",
       "      <th>Users</th>\n",
       "    </tr>\n",
       "  </thead>\n",
       "  <tbody>\n",
       "    <tr>\n",
       "      <th>0</th>\n",
       "      <td>NEW YORK NY</td>\n",
       "      <td>8,405,837</td>\n",
       "      <td>302,149</td>\n",
       "    </tr>\n",
       "    <tr>\n",
       "      <th>1</th>\n",
       "      <td>CHICAGO IL</td>\n",
       "      <td>1,955,130</td>\n",
       "      <td>164,468</td>\n",
       "    </tr>\n",
       "    <tr>\n",
       "      <th>2</th>\n",
       "      <td>LOS ANGELES CA</td>\n",
       "      <td>1,595,037</td>\n",
       "      <td>144,132</td>\n",
       "    </tr>\n",
       "    <tr>\n",
       "      <th>3</th>\n",
       "      <td>MIAMI FL</td>\n",
       "      <td>1,339,155</td>\n",
       "      <td>17,675</td>\n",
       "    </tr>\n",
       "    <tr>\n",
       "      <th>4</th>\n",
       "      <td>SILICON VALLEY</td>\n",
       "      <td>1,177,609</td>\n",
       "      <td>27,247</td>\n",
       "    </tr>\n",
       "  </tbody>\n",
       "</table>\n",
       "</div>"
      ],
      "text/plain": [
       "             City   Population      Users\n",
       "0     NEW YORK NY   8,405,837    302,149 \n",
       "1      CHICAGO IL   1,955,130    164,468 \n",
       "2  LOS ANGELES CA   1,595,037    144,132 \n",
       "3        MIAMI FL   1,339,155     17,675 \n",
       "4  SILICON VALLEY   1,177,609     27,247 "
      ]
     },
     "metadata": {},
     "output_type": "display_data"
    },
    {
     "name": "stdout",
     "output_type": "stream",
     "text": [
      "City data types:\n"
     ]
    },
    {
     "data": {
      "text/plain": [
       "City          object\n",
       "Population    object\n",
       "Users         object\n",
       "dtype: object"
      ]
     },
     "metadata": {},
     "output_type": "display_data"
    },
    {
     "name": "stdout",
     "output_type": "stream",
     "text": [
      "Customer_ID preveiw:\n"
     ]
    },
    {
     "data": {
      "text/html": [
       "<div>\n",
       "<style scoped>\n",
       "    .dataframe tbody tr th:only-of-type {\n",
       "        vertical-align: middle;\n",
       "    }\n",
       "\n",
       "    .dataframe tbody tr th {\n",
       "        vertical-align: top;\n",
       "    }\n",
       "\n",
       "    .dataframe thead th {\n",
       "        text-align: right;\n",
       "    }\n",
       "</style>\n",
       "<table border=\"1\" class=\"dataframe\">\n",
       "  <thead>\n",
       "    <tr style=\"text-align: right;\">\n",
       "      <th></th>\n",
       "      <th>Customer ID</th>\n",
       "      <th>Gender</th>\n",
       "      <th>Age</th>\n",
       "      <th>Income (USD/Month)</th>\n",
       "    </tr>\n",
       "  </thead>\n",
       "  <tbody>\n",
       "    <tr>\n",
       "      <th>0</th>\n",
       "      <td>29290</td>\n",
       "      <td>Male</td>\n",
       "      <td>28</td>\n",
       "      <td>10813</td>\n",
       "    </tr>\n",
       "    <tr>\n",
       "      <th>1</th>\n",
       "      <td>27703</td>\n",
       "      <td>Male</td>\n",
       "      <td>27</td>\n",
       "      <td>9237</td>\n",
       "    </tr>\n",
       "    <tr>\n",
       "      <th>2</th>\n",
       "      <td>28712</td>\n",
       "      <td>Male</td>\n",
       "      <td>53</td>\n",
       "      <td>11242</td>\n",
       "    </tr>\n",
       "    <tr>\n",
       "      <th>3</th>\n",
       "      <td>28020</td>\n",
       "      <td>Male</td>\n",
       "      <td>23</td>\n",
       "      <td>23327</td>\n",
       "    </tr>\n",
       "    <tr>\n",
       "      <th>4</th>\n",
       "      <td>27182</td>\n",
       "      <td>Male</td>\n",
       "      <td>33</td>\n",
       "      <td>8536</td>\n",
       "    </tr>\n",
       "  </tbody>\n",
       "</table>\n",
       "</div>"
      ],
      "text/plain": [
       "   Customer ID Gender  Age  Income (USD/Month)\n",
       "0        29290   Male   28               10813\n",
       "1        27703   Male   27                9237\n",
       "2        28712   Male   53               11242\n",
       "3        28020   Male   23               23327\n",
       "4        27182   Male   33                8536"
      ]
     },
     "metadata": {},
     "output_type": "display_data"
    },
    {
     "name": "stdout",
     "output_type": "stream",
     "text": [
      "Customer_ID data types:\n"
     ]
    },
    {
     "data": {
      "text/plain": [
       "Customer ID            int64\n",
       "Gender                object\n",
       "Age                    int64\n",
       "Income (USD/Month)     int64\n",
       "dtype: object"
      ]
     },
     "metadata": {},
     "output_type": "display_data"
    },
    {
     "name": "stdout",
     "output_type": "stream",
     "text": [
      "Cab_Data preveiw:\n"
     ]
    },
    {
     "data": {
      "text/html": [
       "<div>\n",
       "<style scoped>\n",
       "    .dataframe tbody tr th:only-of-type {\n",
       "        vertical-align: middle;\n",
       "    }\n",
       "\n",
       "    .dataframe tbody tr th {\n",
       "        vertical-align: top;\n",
       "    }\n",
       "\n",
       "    .dataframe thead th {\n",
       "        text-align: right;\n",
       "    }\n",
       "</style>\n",
       "<table border=\"1\" class=\"dataframe\">\n",
       "  <thead>\n",
       "    <tr style=\"text-align: right;\">\n",
       "      <th></th>\n",
       "      <th>Transaction ID</th>\n",
       "      <th>Date of Travel</th>\n",
       "      <th>Company</th>\n",
       "      <th>City</th>\n",
       "      <th>KM Travelled</th>\n",
       "      <th>Price Charged</th>\n",
       "      <th>Cost of Trip</th>\n",
       "    </tr>\n",
       "  </thead>\n",
       "  <tbody>\n",
       "    <tr>\n",
       "      <th>0</th>\n",
       "      <td>10000011</td>\n",
       "      <td>42377</td>\n",
       "      <td>Pink Cab</td>\n",
       "      <td>ATLANTA GA</td>\n",
       "      <td>30.45</td>\n",
       "      <td>370.95</td>\n",
       "      <td>313.635</td>\n",
       "    </tr>\n",
       "    <tr>\n",
       "      <th>1</th>\n",
       "      <td>10000012</td>\n",
       "      <td>42375</td>\n",
       "      <td>Pink Cab</td>\n",
       "      <td>ATLANTA GA</td>\n",
       "      <td>28.62</td>\n",
       "      <td>358.52</td>\n",
       "      <td>334.854</td>\n",
       "    </tr>\n",
       "    <tr>\n",
       "      <th>2</th>\n",
       "      <td>10000013</td>\n",
       "      <td>42371</td>\n",
       "      <td>Pink Cab</td>\n",
       "      <td>ATLANTA GA</td>\n",
       "      <td>9.04</td>\n",
       "      <td>125.20</td>\n",
       "      <td>97.632</td>\n",
       "    </tr>\n",
       "    <tr>\n",
       "      <th>3</th>\n",
       "      <td>10000014</td>\n",
       "      <td>42376</td>\n",
       "      <td>Pink Cab</td>\n",
       "      <td>ATLANTA GA</td>\n",
       "      <td>33.17</td>\n",
       "      <td>377.40</td>\n",
       "      <td>351.602</td>\n",
       "    </tr>\n",
       "    <tr>\n",
       "      <th>4</th>\n",
       "      <td>10000015</td>\n",
       "      <td>42372</td>\n",
       "      <td>Pink Cab</td>\n",
       "      <td>ATLANTA GA</td>\n",
       "      <td>8.73</td>\n",
       "      <td>114.62</td>\n",
       "      <td>97.776</td>\n",
       "    </tr>\n",
       "  </tbody>\n",
       "</table>\n",
       "</div>"
      ],
      "text/plain": [
       "   Transaction ID  Date of Travel   Company        City  KM Travelled  \\\n",
       "0        10000011           42377  Pink Cab  ATLANTA GA         30.45   \n",
       "1        10000012           42375  Pink Cab  ATLANTA GA         28.62   \n",
       "2        10000013           42371  Pink Cab  ATLANTA GA          9.04   \n",
       "3        10000014           42376  Pink Cab  ATLANTA GA         33.17   \n",
       "4        10000015           42372  Pink Cab  ATLANTA GA          8.73   \n",
       "\n",
       "   Price Charged  Cost of Trip  \n",
       "0         370.95       313.635  \n",
       "1         358.52       334.854  \n",
       "2         125.20        97.632  \n",
       "3         377.40       351.602  \n",
       "4         114.62        97.776  "
      ]
     },
     "metadata": {},
     "output_type": "display_data"
    },
    {
     "name": "stdout",
     "output_type": "stream",
     "text": [
      "Cab_Data data types:\n"
     ]
    },
    {
     "data": {
      "text/plain": [
       "Transaction ID      int64\n",
       "Date of Travel      int64\n",
       "Company            object\n",
       "City               object\n",
       "KM Travelled      float64\n",
       "Price Charged     float64\n",
       "Cost of Trip      float64\n",
       "dtype: object"
      ]
     },
     "metadata": {},
     "output_type": "display_data"
    },
    {
     "name": "stdout",
     "output_type": "stream",
     "text": [
      "Transaction_ID preveiw:\n"
     ]
    },
    {
     "data": {
      "text/html": [
       "<div>\n",
       "<style scoped>\n",
       "    .dataframe tbody tr th:only-of-type {\n",
       "        vertical-align: middle;\n",
       "    }\n",
       "\n",
       "    .dataframe tbody tr th {\n",
       "        vertical-align: top;\n",
       "    }\n",
       "\n",
       "    .dataframe thead th {\n",
       "        text-align: right;\n",
       "    }\n",
       "</style>\n",
       "<table border=\"1\" class=\"dataframe\">\n",
       "  <thead>\n",
       "    <tr style=\"text-align: right;\">\n",
       "      <th></th>\n",
       "      <th>Transaction ID</th>\n",
       "      <th>Customer ID</th>\n",
       "      <th>Payment_Mode</th>\n",
       "    </tr>\n",
       "  </thead>\n",
       "  <tbody>\n",
       "    <tr>\n",
       "      <th>0</th>\n",
       "      <td>10000011</td>\n",
       "      <td>29290</td>\n",
       "      <td>Card</td>\n",
       "    </tr>\n",
       "    <tr>\n",
       "      <th>1</th>\n",
       "      <td>10000012</td>\n",
       "      <td>27703</td>\n",
       "      <td>Card</td>\n",
       "    </tr>\n",
       "    <tr>\n",
       "      <th>2</th>\n",
       "      <td>10000013</td>\n",
       "      <td>28712</td>\n",
       "      <td>Cash</td>\n",
       "    </tr>\n",
       "    <tr>\n",
       "      <th>3</th>\n",
       "      <td>10000014</td>\n",
       "      <td>28020</td>\n",
       "      <td>Cash</td>\n",
       "    </tr>\n",
       "    <tr>\n",
       "      <th>4</th>\n",
       "      <td>10000015</td>\n",
       "      <td>27182</td>\n",
       "      <td>Card</td>\n",
       "    </tr>\n",
       "  </tbody>\n",
       "</table>\n",
       "</div>"
      ],
      "text/plain": [
       "   Transaction ID  Customer ID Payment_Mode\n",
       "0        10000011        29290         Card\n",
       "1        10000012        27703         Card\n",
       "2        10000013        28712         Cash\n",
       "3        10000014        28020         Cash\n",
       "4        10000015        27182         Card"
      ]
     },
     "metadata": {},
     "output_type": "display_data"
    },
    {
     "name": "stdout",
     "output_type": "stream",
     "text": [
      "Transaction_ID data types:\n"
     ]
    },
    {
     "data": {
      "text/plain": [
       "Transaction ID     int64\n",
       "Customer ID        int64\n",
       "Payment_Mode      object\n",
       "dtype: object"
      ]
     },
     "metadata": {},
     "output_type": "display_data"
    }
   ],
   "source": [
    "City = pd.read_csv(r'C:\\Users\\78641\\Downloads\\City.csv')\n",
    "Customer_ID = pd.read_csv(r'C:\\Users\\78641\\Downloads\\Customer_ID.csv')\n",
    "Cab_Data = pd.read_csv(r'C:\\Users\\78641\\Downloads\\Cab_Data.csv')\n",
    "Transaction_ID = pd.read_csv(r'C:\\Users\\78641\\Downloads\\Transaction_ID.csv')\n",
    "\n",
    "dataset = {\n",
    "    'City' : City,\n",
    "    'Customer_ID' : Customer_ID,\n",
    "    'Cab_Data' : Cab_Data,\n",
    "    'Transaction_ID' : Transaction_ID\n",
    "}\n",
    "\n",
    "for name, value in dataset.items():\n",
    "    print(f'{name} preveiw:')\n",
    "    display(value.head())\n",
    "    print(f'{name} data types:')\n",
    "    display(value.dtypes)"
   ]
  },
  {
   "cell_type": "markdown",
   "metadata": {},
   "source": [
    "Drop 'Date of Travel' in Cab_Data.\n",
    "Convert 'Population' and 'Users' in City to int type."
   ]
  },
  {
   "cell_type": "code",
   "execution_count": 15,
   "metadata": {},
   "outputs": [],
   "source": [
    "Cab_Data.drop('Date of Travel', axis= 1, inplace= True)\n",
    "if City['Population'].dtype == 'object':\n",
    "    City['Population'] = City['Population'].str.replace(',', '').astype(int)\n",
    "if City['Users'].dtype == 'object':\n",
    "    City['Users'] = City['Users'].str.replace(',', '').astype(int)"
   ]
  },
  {
   "cell_type": "markdown",
   "metadata": {},
   "source": [
    "Check for missing values in each dataset."
   ]
  },
  {
   "cell_type": "code",
   "execution_count": 16,
   "metadata": {},
   "outputs": [
    {
     "data": {
      "text/plain": [
       "{'City': City          0\n",
       " Population    0\n",
       " Users         0\n",
       " dtype: int64,\n",
       " 'Customer_ID': Customer ID           0\n",
       " Gender                0\n",
       " Age                   0\n",
       " Income (USD/Month)    0\n",
       " dtype: int64,\n",
       " 'Cab_Data': Transaction ID    0\n",
       " Company           0\n",
       " City              0\n",
       " KM Travelled      0\n",
       " Price Charged     0\n",
       " Cost of Trip      0\n",
       " dtype: int64,\n",
       " 'Transaction_ID': Transaction ID    0\n",
       " Customer ID       0\n",
       " Payment_Mode      0\n",
       " dtype: int64}"
      ]
     },
     "execution_count": 16,
     "metadata": {},
     "output_type": "execute_result"
    }
   ],
   "source": [
    "{name: data.isnull().sum() for name, data in dataset.items()}"
   ]
  },
  {
   "cell_type": "markdown",
   "metadata": {},
   "source": [
    "Check for duplicate values in each dataset"
   ]
  },
  {
   "cell_type": "code",
   "execution_count": 17,
   "metadata": {},
   "outputs": [
    {
     "data": {
      "text/plain": [
       "{'City': 0, 'Customer_ID': 0, 'Cab_Data': 0, 'Transaction_ID': 0}"
      ]
     },
     "execution_count": 17,
     "metadata": {},
     "output_type": "execute_result"
    }
   ],
   "source": [
    "{name : data.duplicated().sum() for name, data in dataset.items()}"
   ]
  },
  {
   "cell_type": "markdown",
   "metadata": {},
   "source": [
    "Merge tables and edit column names, add new column"
   ]
  },
  {
   "cell_type": "code",
   "execution_count": 18,
   "metadata": {},
   "outputs": [
    {
     "data": {
      "text/html": [
       "<div>\n",
       "<style scoped>\n",
       "    .dataframe tbody tr th:only-of-type {\n",
       "        vertical-align: middle;\n",
       "    }\n",
       "\n",
       "    .dataframe tbody tr th {\n",
       "        vertical-align: top;\n",
       "    }\n",
       "\n",
       "    .dataframe thead th {\n",
       "        text-align: right;\n",
       "    }\n",
       "</style>\n",
       "<table border=\"1\" class=\"dataframe\">\n",
       "  <thead>\n",
       "    <tr style=\"text-align: right;\">\n",
       "      <th></th>\n",
       "      <th>Transaction ID</th>\n",
       "      <th>Company</th>\n",
       "      <th>City</th>\n",
       "      <th>KM Travelled</th>\n",
       "      <th>Price Charged</th>\n",
       "      <th>Cost of Trip</th>\n",
       "      <th>Customer ID</th>\n",
       "      <th>Payment_Mode</th>\n",
       "      <th>Gender</th>\n",
       "      <th>Age</th>\n",
       "      <th>Income (USD/Month)</th>\n",
       "      <th>Population</th>\n",
       "      <th>Users</th>\n",
       "      <th>Profit</th>\n",
       "    </tr>\n",
       "  </thead>\n",
       "  <tbody>\n",
       "    <tr>\n",
       "      <th>0</th>\n",
       "      <td>10000011</td>\n",
       "      <td>Pink Cab</td>\n",
       "      <td>ATLANTA GA</td>\n",
       "      <td>30.45</td>\n",
       "      <td>370.95</td>\n",
       "      <td>313.6350</td>\n",
       "      <td>29290</td>\n",
       "      <td>Card</td>\n",
       "      <td>Male</td>\n",
       "      <td>28</td>\n",
       "      <td>10813</td>\n",
       "      <td>814885</td>\n",
       "      <td>24701</td>\n",
       "      <td>57.3150</td>\n",
       "    </tr>\n",
       "    <tr>\n",
       "      <th>1</th>\n",
       "      <td>10351127</td>\n",
       "      <td>Yellow Cab</td>\n",
       "      <td>ATLANTA GA</td>\n",
       "      <td>26.19</td>\n",
       "      <td>598.70</td>\n",
       "      <td>317.4228</td>\n",
       "      <td>29290</td>\n",
       "      <td>Cash</td>\n",
       "      <td>Male</td>\n",
       "      <td>28</td>\n",
       "      <td>10813</td>\n",
       "      <td>814885</td>\n",
       "      <td>24701</td>\n",
       "      <td>281.2772</td>\n",
       "    </tr>\n",
       "    <tr>\n",
       "      <th>2</th>\n",
       "      <td>10412921</td>\n",
       "      <td>Yellow Cab</td>\n",
       "      <td>ATLANTA GA</td>\n",
       "      <td>42.55</td>\n",
       "      <td>792.05</td>\n",
       "      <td>597.4020</td>\n",
       "      <td>29290</td>\n",
       "      <td>Card</td>\n",
       "      <td>Male</td>\n",
       "      <td>28</td>\n",
       "      <td>10813</td>\n",
       "      <td>814885</td>\n",
       "      <td>24701</td>\n",
       "      <td>194.6480</td>\n",
       "    </tr>\n",
       "    <tr>\n",
       "      <th>3</th>\n",
       "      <td>10000012</td>\n",
       "      <td>Pink Cab</td>\n",
       "      <td>ATLANTA GA</td>\n",
       "      <td>28.62</td>\n",
       "      <td>358.52</td>\n",
       "      <td>334.8540</td>\n",
       "      <td>27703</td>\n",
       "      <td>Card</td>\n",
       "      <td>Male</td>\n",
       "      <td>27</td>\n",
       "      <td>9237</td>\n",
       "      <td>814885</td>\n",
       "      <td>24701</td>\n",
       "      <td>23.6660</td>\n",
       "    </tr>\n",
       "    <tr>\n",
       "      <th>4</th>\n",
       "      <td>10320494</td>\n",
       "      <td>Yellow Cab</td>\n",
       "      <td>ATLANTA GA</td>\n",
       "      <td>36.38</td>\n",
       "      <td>721.10</td>\n",
       "      <td>467.1192</td>\n",
       "      <td>27703</td>\n",
       "      <td>Card</td>\n",
       "      <td>Male</td>\n",
       "      <td>27</td>\n",
       "      <td>9237</td>\n",
       "      <td>814885</td>\n",
       "      <td>24701</td>\n",
       "      <td>253.9808</td>\n",
       "    </tr>\n",
       "  </tbody>\n",
       "</table>\n",
       "</div>"
      ],
      "text/plain": [
       "   Transaction ID     Company        City  KM Travelled  Price Charged  \\\n",
       "0        10000011    Pink Cab  ATLANTA GA         30.45         370.95   \n",
       "1        10351127  Yellow Cab  ATLANTA GA         26.19         598.70   \n",
       "2        10412921  Yellow Cab  ATLANTA GA         42.55         792.05   \n",
       "3        10000012    Pink Cab  ATLANTA GA         28.62         358.52   \n",
       "4        10320494  Yellow Cab  ATLANTA GA         36.38         721.10   \n",
       "\n",
       "   Cost of Trip  Customer ID Payment_Mode Gender  Age  Income (USD/Month)  \\\n",
       "0      313.6350        29290         Card   Male   28               10813   \n",
       "1      317.4228        29290         Cash   Male   28               10813   \n",
       "2      597.4020        29290         Card   Male   28               10813   \n",
       "3      334.8540        27703         Card   Male   27                9237   \n",
       "4      467.1192        27703         Card   Male   27                9237   \n",
       "\n",
       "   Population  Users    Profit  \n",
       "0      814885  24701   57.3150  \n",
       "1      814885  24701  281.2772  \n",
       "2      814885  24701  194.6480  \n",
       "3      814885  24701   23.6660  \n",
       "4      814885  24701  253.9808  "
      ]
     },
     "execution_count": 18,
     "metadata": {},
     "output_type": "execute_result"
    }
   ],
   "source": [
    "df = pd.merge(Cab_Data, Transaction_ID, on='Transaction ID')\n",
    "df = pd.merge(df, Customer_ID, on= 'Customer ID')\n",
    "df = pd.merge(df, City, on= 'City')\n",
    "df['Profit'] = df['Price Charged'] - df['Cost of Trip']\n",
    "df.head()"
   ]
  },
  {
   "cell_type": "markdown",
   "metadata": {},
   "source": [
    "--------------------------------------------------------------------------------------------------------------------------"
   ]
  },
  {
   "cell_type": "markdown",
   "metadata": {},
   "source": [
    "Demographic Influence: How do customer demographics such as age, gender, and income level affect cab usage patterns? For instance, we can investigate if higher-income individuals tend to spend more on cab rides or if there's a noticeable preference for one cab company over another among different age groups."
   ]
  },
  {
   "cell_type": "code",
   "execution_count": 28,
   "metadata": {},
   "outputs": [
    {
     "data": {
      "text/html": [
       "<div>\n",
       "<style scoped>\n",
       "    .dataframe tbody tr th:only-of-type {\n",
       "        vertical-align: middle;\n",
       "    }\n",
       "\n",
       "    .dataframe tbody tr th {\n",
       "        vertical-align: top;\n",
       "    }\n",
       "\n",
       "    .dataframe thead tr th {\n",
       "        text-align: left;\n",
       "    }\n",
       "\n",
       "    .dataframe thead tr:last-of-type th {\n",
       "        text-align: right;\n",
       "    }\n",
       "</style>\n",
       "<table border=\"1\" class=\"dataframe\">\n",
       "  <thead>\n",
       "    <tr>\n",
       "      <th></th>\n",
       "      <th colspan=\"2\" halign=\"left\">Total Profit</th>\n",
       "      <th colspan=\"2\" halign=\"left\">Order Count</th>\n",
       "    </tr>\n",
       "    <tr>\n",
       "      <th>Gender</th>\n",
       "      <th>Female</th>\n",
       "      <th>Male</th>\n",
       "      <th>Female</th>\n",
       "      <th>Male</th>\n",
       "    </tr>\n",
       "    <tr>\n",
       "      <th>Company</th>\n",
       "      <th></th>\n",
       "      <th></th>\n",
       "      <th></th>\n",
       "      <th></th>\n",
       "    </tr>\n",
       "  </thead>\n",
       "  <tbody>\n",
       "    <tr>\n",
       "      <th>Pink Cab</th>\n",
       "      <td>2.330533e+06</td>\n",
       "      <td>2.976796e+06</td>\n",
       "      <td>37480</td>\n",
       "      <td>47231</td>\n",
       "    </tr>\n",
       "    <tr>\n",
       "      <th>Yellow Cab</th>\n",
       "      <td>1.813142e+07</td>\n",
       "      <td>2.588896e+07</td>\n",
       "      <td>116000</td>\n",
       "      <td>158681</td>\n",
       "    </tr>\n",
       "  </tbody>\n",
       "</table>\n",
       "</div>"
      ],
      "text/plain": [
       "            Total Profit               Order Count        \n",
       "Gender            Female          Male      Female    Male\n",
       "Company                                                   \n",
       "Pink Cab    2.330533e+06  2.976796e+06       37480   47231\n",
       "Yellow Cab  1.813142e+07  2.588896e+07      116000  158681"
      ]
     },
     "execution_count": 28,
     "metadata": {},
     "output_type": "execute_result"
    }
   ],
   "source": [
    "# Group by gender and calculate average profit and order counts.\n",
    "gender_stats = df.groupby(['Company', 'Gender']).agg({'Profit':'sum', 'Transaction ID' : 'count'}).rename(columns={'Profit' : 'Total Profit', 'Transaction ID' : 'Order Count'}).unstack()\n",
    "gender_stats"
   ]
  },
  {
   "cell_type": "code",
   "execution_count": 20,
   "metadata": {},
   "outputs": [
    {
     "data": {
      "image/png": "[encoded data removed]",
      "text/plain": [
       "<Figure size 1000x700 with 1 Axes>"
      ]
     },
     "metadata": {},
     "output_type": "display_data"
    }
   ],
   "source": [
    "# Group by gender and calculate average profit and order counts.\n",
    "plot_data = gender_stats['Total Profit']\n",
    "plot_data.plot(kind='bar', stacked=True, figsize=(10, 7))\n",
    "plt.show()"
   ]
  },
  {
   "cell_type": "code",
   "execution_count": 21,
   "metadata": {},
   "outputs": [
    {
     "data": {
      "text/html": [
       "<div>\n",
       "<style scoped>\n",
       "    .dataframe tbody tr th:only-of-type {\n",
       "        vertical-align: middle;\n",
       "    }\n",
       "\n",
       "    .dataframe tbody tr th {\n",
       "        vertical-align: top;\n",
       "    }\n",
       "\n",
       "    .dataframe thead tr th {\n",
       "        text-align: left;\n",
       "    }\n",
       "\n",
       "    .dataframe thead tr:last-of-type th {\n",
       "        text-align: right;\n",
       "    }\n",
       "</style>\n",
       "<table border=\"1\" class=\"dataframe\">\n",
       "  <thead>\n",
       "    <tr>\n",
       "      <th></th>\n",
       "      <th colspan=\"5\" halign=\"left\">Total Profit</th>\n",
       "      <th colspan=\"5\" halign=\"left\">Order Count</th>\n",
       "    </tr>\n",
       "    <tr>\n",
       "      <th>Age</th>\n",
       "      <th>18-25</th>\n",
       "      <th>25-35</th>\n",
       "      <th>35-45</th>\n",
       "      <th>45-55</th>\n",
       "      <th>55-65</th>\n",
       "      <th>18-25</th>\n",
       "      <th>25-35</th>\n",
       "      <th>35-45</th>\n",
       "      <th>45-55</th>\n",
       "      <th>55-65</th>\n",
       "    </tr>\n",
       "    <tr>\n",
       "      <th>Company</th>\n",
       "      <th></th>\n",
       "      <th></th>\n",
       "      <th></th>\n",
       "      <th></th>\n",
       "      <th></th>\n",
       "      <th></th>\n",
       "      <th></th>\n",
       "      <th></th>\n",
       "      <th></th>\n",
       "      <th></th>\n",
       "    </tr>\n",
       "  </thead>\n",
       "  <tbody>\n",
       "    <tr>\n",
       "      <th>Pink Cab</th>\n",
       "      <td>1.238112e+06</td>\n",
       "      <td>1.672132e+06</td>\n",
       "      <td>1105317.567</td>\n",
       "      <td>560713.652</td>\n",
       "      <td>5.644938e+05</td>\n",
       "      <td>19444</td>\n",
       "      <td>26678</td>\n",
       "      <td>17830</td>\n",
       "      <td>9001</td>\n",
       "      <td>9082</td>\n",
       "    </tr>\n",
       "    <tr>\n",
       "      <th>Yellow Cab</th>\n",
       "      <td>1.010082e+07</td>\n",
       "      <td>1.385856e+07</td>\n",
       "      <td>9414415.162</td>\n",
       "      <td>4769071.282</td>\n",
       "      <td>4.533552e+06</td>\n",
       "      <td>63054</td>\n",
       "      <td>86736</td>\n",
       "      <td>58168</td>\n",
       "      <td>29559</td>\n",
       "      <td>28994</td>\n",
       "    </tr>\n",
       "  </tbody>\n",
       "</table>\n",
       "</div>"
      ],
      "text/plain": [
       "            Total Profit                                          \\\n",
       "Age                18-25         25-35        35-45        45-55   \n",
       "Company                                                            \n",
       "Pink Cab    1.238112e+06  1.672132e+06  1105317.567   560713.652   \n",
       "Yellow Cab  1.010082e+07  1.385856e+07  9414415.162  4769071.282   \n",
       "\n",
       "                         Order Count                              \n",
       "Age                55-65       18-25  25-35  35-45  45-55  55-65  \n",
       "Company                                                           \n",
       "Pink Cab    5.644938e+05       19444  26678  17830   9001   9082  \n",
       "Yellow Cab  4.533552e+06       63054  86736  58168  29559  28994  "
      ]
     },
     "execution_count": 21,
     "metadata": {},
     "output_type": "execute_result"
    }
   ],
   "source": [
    "# Group by age.\n",
    "age_bins = pd.cut(df['Age'], bins=[18, 25, 35, 45, 55, 65], labels=['18-25', '25-35', '35-45', '45-55', '55-65'])\n",
    "age_stats = df.groupby(['Company', age_bins]).agg({'Profit':'sum', 'Transaction ID' : 'count'}).rename(columns={'Profit' : 'Total Profit', 'Transaction ID' : 'Order Count'}).unstack()\n",
    "age_stats"
   ]
  },
  {
   "cell_type": "code",
   "execution_count": 22,
   "metadata": {},
   "outputs": [
    {
     "data": {
      "image/png": "[encoded data removed]",
      "text/plain": [
       "<Figure size 1000x700 with 1 Axes>"
      ]
     },
     "metadata": {},
     "output_type": "display_data"
    }
   ],
   "source": [
    "plot_data = age_stats['Total Profit']\n",
    "plot_data.plot(kind='bar', stacked=True, figsize=(10, 7))\n",
    "plt.show()"
   ]
  },
  {
   "cell_type": "code",
   "execution_count": 23,
   "metadata": {},
   "outputs": [
    {
     "data": {
      "text/html": [
       "<div>\n",
       "<style scoped>\n",
       "    .dataframe tbody tr th:only-of-type {\n",
       "        vertical-align: middle;\n",
       "    }\n",
       "\n",
       "    .dataframe tbody tr th {\n",
       "        vertical-align: top;\n",
       "    }\n",
       "\n",
       "    .dataframe thead tr th {\n",
       "        text-align: left;\n",
       "    }\n",
       "\n",
       "    .dataframe thead tr:last-of-type th {\n",
       "        text-align: right;\n",
       "    }\n",
       "</style>\n",
       "<table border=\"1\" class=\"dataframe\">\n",
       "  <thead>\n",
       "    <tr>\n",
       "      <th></th>\n",
       "      <th colspan=\"3\" halign=\"left\">Total Profit</th>\n",
       "      <th colspan=\"3\" halign=\"left\">Order Count</th>\n",
       "    </tr>\n",
       "    <tr>\n",
       "      <th>Income (USD/Month)</th>\n",
       "      <th>low</th>\n",
       "      <th>medium</th>\n",
       "      <th>high</th>\n",
       "      <th>low</th>\n",
       "      <th>medium</th>\n",
       "      <th>high</th>\n",
       "    </tr>\n",
       "    <tr>\n",
       "      <th>Company</th>\n",
       "      <th></th>\n",
       "      <th></th>\n",
       "      <th></th>\n",
       "      <th></th>\n",
       "      <th></th>\n",
       "      <th></th>\n",
       "    </tr>\n",
       "  </thead>\n",
       "  <tbody>\n",
       "    <tr>\n",
       "      <th>Pink Cab</th>\n",
       "      <td>107193.4440</td>\n",
       "      <td>2.579772e+06</td>\n",
       "      <td>2.620362e+06</td>\n",
       "      <td>1709</td>\n",
       "      <td>41546</td>\n",
       "      <td>41456</td>\n",
       "    </tr>\n",
       "    <tr>\n",
       "      <th>Yellow Cab</th>\n",
       "      <td>842536.0688</td>\n",
       "      <td>2.141685e+07</td>\n",
       "      <td>2.176099e+07</td>\n",
       "      <td>5302</td>\n",
       "      <td>135315</td>\n",
       "      <td>134064</td>\n",
       "    </tr>\n",
       "  </tbody>\n",
       "</table>\n",
       "</div>"
      ],
      "text/plain": [
       "                   Total Profit                             Order Count  \\\n",
       "Income (USD/Month)          low        medium          high         low   \n",
       "Company                                                                   \n",
       "Pink Cab            107193.4440  2.579772e+06  2.620362e+06        1709   \n",
       "Yellow Cab          842536.0688  2.141685e+07  2.176099e+07        5302   \n",
       "\n",
       "                                    \n",
       "Income (USD/Month)  medium    high  \n",
       "Company                             \n",
       "Pink Cab             41546   41456  \n",
       "Yellow Cab          135315  134064  "
      ]
     },
     "execution_count": 23,
     "metadata": {},
     "output_type": "execute_result"
    }
   ],
   "source": [
    "# Group by income quartiles\n",
    "income_bins = pd.cut(df['Income (USD/Month)'], bins= [0, 2500, 15000, 50000], labels=['low', 'medium', 'high'])\n",
    "income_stats = df.groupby(['Company', income_bins]).agg({'Profit':'sum', 'Transaction ID' : 'count'}).rename(columns={'Profit' : 'Total Profit', 'Transaction ID' : 'Order Count'}).unstack()\n",
    "income_stats"
   ]
  },
  {
   "cell_type": "code",
   "execution_count": 24,
   "metadata": {},
   "outputs": [
    {
     "data": {
      "image/png": "[encoded data removed]",
      "text/plain": [
       "<Figure size 1000x700 with 1 Axes>"
      ]
     },
     "metadata": {},
     "output_type": "display_data"
    }
   ],
   "source": [
    "plot_data = income_stats['Total Profit']\n",
    "plot_data.plot(kind='bar', stacked=True, figsize=(10, 7))\n",
    "plt.ylabel('Total Profit')\n",
    "plt.show()"
   ]
  },
  {
   "cell_type": "code",
   "execution_count": 26,
   "metadata": {},
   "outputs": [
    {
     "data": {
      "image/png": "[encoded data removed]",
      "text/plain": [
       "<Figure size 1000x700 with 1 Axes>"
      ]
     },
     "metadata": {},
     "output_type": "display_data"
    }
   ],
   "source": [
    "plot_data = income_stats['Order Count']\n",
    "plot_data.plot(kind='bar', stacked=True, figsize=(10, 7))\n",
    "plt.ylabel('Order Count')\n",
    "plt.show()"
   ]
  },
  {
   "cell_type": "markdown",
   "metadata": {},
   "source": [
    "Geographic Analysis: What is the user base as well as revenue status of both companies in various cities?"
   ]
  },
  {
   "cell_type": "code",
   "execution_count": 31,
   "metadata": {},
   "outputs": [
    {
     "data": {
      "text/html": [
       "<div>\n",
       "<style scoped>\n",
       "    .dataframe tbody tr th:only-of-type {\n",
       "        vertical-align: middle;\n",
       "    }\n",
       "\n",
       "    .dataframe tbody tr th {\n",
       "        vertical-align: top;\n",
       "    }\n",
       "\n",
       "    .dataframe thead tr th {\n",
       "        text-align: left;\n",
       "    }\n",
       "\n",
       "    .dataframe thead tr:last-of-type th {\n",
       "        text-align: right;\n",
       "    }\n",
       "</style>\n",
       "<table border=\"1\" class=\"dataframe\">\n",
       "  <thead>\n",
       "    <tr>\n",
       "      <th></th>\n",
       "      <th colspan=\"2\" halign=\"left\">Total Profit</th>\n",
       "      <th colspan=\"2\" halign=\"left\">Order Count</th>\n",
       "    </tr>\n",
       "    <tr>\n",
       "      <th>Company</th>\n",
       "      <th>Pink Cab</th>\n",
       "      <th>Yellow Cab</th>\n",
       "      <th>Pink Cab</th>\n",
       "      <th>Yellow Cab</th>\n",
       "    </tr>\n",
       "    <tr>\n",
       "      <th>City</th>\n",
       "      <th></th>\n",
       "      <th></th>\n",
       "      <th></th>\n",
       "      <th></th>\n",
       "    </tr>\n",
       "  </thead>\n",
       "  <tbody>\n",
       "    <tr>\n",
       "      <th>ATLANTA GA</th>\n",
       "      <td>96050.076</td>\n",
       "      <td>7.463828e+05</td>\n",
       "      <td>1762</td>\n",
       "      <td>5795</td>\n",
       "    </tr>\n",
       "    <tr>\n",
       "      <th>AUSTIN TX</th>\n",
       "      <td>147445.290</td>\n",
       "      <td>3.792557e+05</td>\n",
       "      <td>1868</td>\n",
       "      <td>3028</td>\n",
       "    </tr>\n",
       "    <tr>\n",
       "      <th>BOSTON MA</th>\n",
       "      <td>262001.698</td>\n",
       "      <td>1.506718e+06</td>\n",
       "      <td>5186</td>\n",
       "      <td>24506</td>\n",
       "    </tr>\n",
       "    <tr>\n",
       "      <th>CHICAGO IL</th>\n",
       "      <td>318722.488</td>\n",
       "      <td>3.068591e+06</td>\n",
       "      <td>9361</td>\n",
       "      <td>47264</td>\n",
       "    </tr>\n",
       "    <tr>\n",
       "      <th>DALLAS TX</th>\n",
       "      <td>24730.112</td>\n",
       "      <td>1.104003e+06</td>\n",
       "      <td>1380</td>\n",
       "      <td>5637</td>\n",
       "    </tr>\n",
       "    <tr>\n",
       "      <th>DENVER CO</th>\n",
       "      <td>40584.939</td>\n",
       "      <td>3.570001e+05</td>\n",
       "      <td>1394</td>\n",
       "      <td>2431</td>\n",
       "    </tr>\n",
       "    <tr>\n",
       "      <th>LOS ANGELES CA</th>\n",
       "      <td>1125732.065</td>\n",
       "      <td>3.285977e+06</td>\n",
       "      <td>19865</td>\n",
       "      <td>28168</td>\n",
       "    </tr>\n",
       "    <tr>\n",
       "      <th>MIAMI FL</th>\n",
       "      <td>162301.191</td>\n",
       "      <td>5.960001e+05</td>\n",
       "      <td>2002</td>\n",
       "      <td>4452</td>\n",
       "    </tr>\n",
       "    <tr>\n",
       "      <th>NASHVILLE TN</th>\n",
       "      <td>64284.534</td>\n",
       "      <td>8.524768e+04</td>\n",
       "      <td>1841</td>\n",
       "      <td>1169</td>\n",
       "    </tr>\n",
       "    <tr>\n",
       "      <th>NEW YORK NY</th>\n",
       "      <td>1511474.388</td>\n",
       "      <td>2.645108e+07</td>\n",
       "      <td>13967</td>\n",
       "      <td>85918</td>\n",
       "    </tr>\n",
       "    <tr>\n",
       "      <th>ORANGE COUNTY</th>\n",
       "      <td>101995.833</td>\n",
       "      <td>3.550060e+05</td>\n",
       "      <td>1513</td>\n",
       "      <td>2469</td>\n",
       "    </tr>\n",
       "    <tr>\n",
       "      <th>PHOENIX AZ</th>\n",
       "      <td>35596.394</td>\n",
       "      <td>1.573445e+05</td>\n",
       "      <td>864</td>\n",
       "      <td>1200</td>\n",
       "    </tr>\n",
       "    <tr>\n",
       "      <th>PITTSBURGH PA</th>\n",
       "      <td>17107.738</td>\n",
       "      <td>6.805822e+04</td>\n",
       "      <td>682</td>\n",
       "      <td>631</td>\n",
       "    </tr>\n",
       "    <tr>\n",
       "      <th>SACRAMENTO CA</th>\n",
       "      <td>55324.012</td>\n",
       "      <td>6.200218e+04</td>\n",
       "      <td>1334</td>\n",
       "      <td>1033</td>\n",
       "    </tr>\n",
       "    <tr>\n",
       "      <th>SAN DIEGO CA</th>\n",
       "      <td>637889.769</td>\n",
       "      <td>9.492737e+05</td>\n",
       "      <td>10672</td>\n",
       "      <td>9816</td>\n",
       "    </tr>\n",
       "    <tr>\n",
       "      <th>SEATTLE WA</th>\n",
       "      <td>112781.335</td>\n",
       "      <td>4.919035e+05</td>\n",
       "      <td>2732</td>\n",
       "      <td>5265</td>\n",
       "    </tr>\n",
       "    <tr>\n",
       "      <th>SILICON VALLEY</th>\n",
       "      <td>340250.531</td>\n",
       "      <td>9.764547e+05</td>\n",
       "      <td>3797</td>\n",
       "      <td>4722</td>\n",
       "    </tr>\n",
       "    <tr>\n",
       "      <th>TUCSON AZ</th>\n",
       "      <td>59289.575</td>\n",
       "      <td>8.097112e+04</td>\n",
       "      <td>799</td>\n",
       "      <td>1132</td>\n",
       "    </tr>\n",
       "    <tr>\n",
       "      <th>WASHINGTON DC</th>\n",
       "      <td>193766.353</td>\n",
       "      <td>3.299104e+06</td>\n",
       "      <td>3692</td>\n",
       "      <td>40045</td>\n",
       "    </tr>\n",
       "  </tbody>\n",
       "</table>\n",
       "</div>"
      ],
      "text/plain": [
       "               Total Profit               Order Count           \n",
       "Company            Pink Cab    Yellow Cab    Pink Cab Yellow Cab\n",
       "City                                                            \n",
       "ATLANTA GA        96050.076  7.463828e+05        1762       5795\n",
       "AUSTIN TX        147445.290  3.792557e+05        1868       3028\n",
       "BOSTON MA        262001.698  1.506718e+06        5186      24506\n",
       "CHICAGO IL       318722.488  3.068591e+06        9361      47264\n",
       "DALLAS TX         24730.112  1.104003e+06        1380       5637\n",
       "DENVER CO         40584.939  3.570001e+05        1394       2431\n",
       "LOS ANGELES CA  1125732.065  3.285977e+06       19865      28168\n",
       "MIAMI FL         162301.191  5.960001e+05        2002       4452\n",
       "NASHVILLE TN      64284.534  8.524768e+04        1841       1169\n",
       "NEW YORK NY     1511474.388  2.645108e+07       13967      85918\n",
       "ORANGE COUNTY    101995.833  3.550060e+05        1513       2469\n",
       "PHOENIX AZ        35596.394  1.573445e+05         864       1200\n",
       "PITTSBURGH PA     17107.738  6.805822e+04         682        631\n",
       "SACRAMENTO CA     55324.012  6.200218e+04        1334       1033\n",
       "SAN DIEGO CA     637889.769  9.492737e+05       10672       9816\n",
       "SEATTLE WA       112781.335  4.919035e+05        2732       5265\n",
       "SILICON VALLEY   340250.531  9.764547e+05        3797       4722\n",
       "TUCSON AZ         59289.575  8.097112e+04         799       1132\n",
       "WASHINGTON DC    193766.353  3.299104e+06        3692      40045"
      ]
     },
     "execution_count": 31,
     "metadata": {},
     "output_type": "execute_result"
    }
   ],
   "source": [
    "city_stats = df.groupby(['City', 'Company']).agg({'Profit':'sum', 'Transaction ID' : 'count'}).rename(columns={'Profit' : 'Total Profit', 'Transaction ID' : 'Order Count'}).unstack()\n",
    "city_stats"
   ]
  },
  {
   "cell_type": "code",
   "execution_count": 34,
   "metadata": {},
   "outputs": [
    {
     "data": {
      "image/png": "[encoded data removed]",
      "text/plain": [
       "<Figure size 1000x700 with 1 Axes>"
      ]
     },
     "metadata": {},
     "output_type": "display_data"
    }
   ],
   "source": [
    "temp = city_stats['Total Profit']\n",
    "temp.plot(kind='barh', stacked=False, figsize=(10, 7))\n",
    "plt.xlabel('Total Profit')\n",
    "plt.show()"
   ]
  },
  {
   "cell_type": "code",
   "execution_count": 35,
   "metadata": {},
   "outputs": [
    {
     "data": {
      "image/png": "[encoded data removed]",
      "text/plain": [
       "<Figure size 1000x700 with 1 Axes>"
      ]
     },
     "metadata": {},
     "output_type": "display_data"
    }
   ],
   "source": [
    "temp = city_stats['Order Count']\n",
    "temp.plot(kind='barh', stacked=False, figsize=(10, 7))\n",
    "plt.xlabel('Order Count')\n",
    "plt.show()"
   ]
  },
  {
   "cell_type": "markdown",
   "metadata": {},
   "source": [
    "Customer Loyalty and Segmentation: Can we identify loyal customer segments based on repeated usage patterns? Analyzing the frequency of rides per customer might help in understanding customer retention and the effectiveness of each company's marketing strategies."
   ]
  },
  {
   "cell_type": "code",
   "execution_count": 42,
   "metadata": {},
   "outputs": [
    {
     "data": {
      "text/html": [
       "<div>\n",
       "<style scoped>\n",
       "    .dataframe tbody tr th:only-of-type {\n",
       "        vertical-align: middle;\n",
       "    }\n",
       "\n",
       "    .dataframe tbody tr th {\n",
       "        vertical-align: top;\n",
       "    }\n",
       "\n",
       "    .dataframe thead th {\n",
       "        text-align: right;\n",
       "    }\n",
       "</style>\n",
       "<table border=\"1\" class=\"dataframe\">\n",
       "  <thead>\n",
       "    <tr style=\"text-align: right;\">\n",
       "      <th></th>\n",
       "      <th>Transaction ID</th>\n",
       "      <th>Company</th>\n",
       "      <th>City</th>\n",
       "      <th>KM Travelled</th>\n",
       "      <th>Price Charged</th>\n",
       "      <th>Cost of Trip</th>\n",
       "      <th>Customer ID</th>\n",
       "      <th>Payment_Mode</th>\n",
       "      <th>Gender</th>\n",
       "      <th>Age</th>\n",
       "      <th>Income (USD/Month)</th>\n",
       "      <th>Population</th>\n",
       "      <th>Users</th>\n",
       "      <th>Profit</th>\n",
       "      <th>Order Count</th>\n",
       "    </tr>\n",
       "  </thead>\n",
       "  <tbody>\n",
       "    <tr>\n",
       "      <th>0</th>\n",
       "      <td>10000038</td>\n",
       "      <td>Pink Cab</td>\n",
       "      <td>CHICAGO IL</td>\n",
       "      <td>39.55</td>\n",
       "      <td>540.93</td>\n",
       "      <td>454.8250</td>\n",
       "      <td>5785</td>\n",
       "      <td>Card</td>\n",
       "      <td>Male</td>\n",
       "      <td>21</td>\n",
       "      <td>11230</td>\n",
       "      <td>1955130</td>\n",
       "      <td>164468</td>\n",
       "      <td>86.1050</td>\n",
       "      <td>30</td>\n",
       "    </tr>\n",
       "    <tr>\n",
       "      <th>1</th>\n",
       "      <td>10006119</td>\n",
       "      <td>Yellow Cab</td>\n",
       "      <td>CHICAGO IL</td>\n",
       "      <td>10.89</td>\n",
       "      <td>190.14</td>\n",
       "      <td>139.8276</td>\n",
       "      <td>5785</td>\n",
       "      <td>Card</td>\n",
       "      <td>Male</td>\n",
       "      <td>21</td>\n",
       "      <td>11230</td>\n",
       "      <td>1955130</td>\n",
       "      <td>164468</td>\n",
       "      <td>50.3124</td>\n",
       "      <td>30</td>\n",
       "    </tr>\n",
       "    <tr>\n",
       "      <th>2</th>\n",
       "      <td>10017166</td>\n",
       "      <td>Yellow Cab</td>\n",
       "      <td>CHICAGO IL</td>\n",
       "      <td>40.70</td>\n",
       "      <td>508.23</td>\n",
       "      <td>542.1240</td>\n",
       "      <td>5785</td>\n",
       "      <td>Card</td>\n",
       "      <td>Male</td>\n",
       "      <td>21</td>\n",
       "      <td>11230</td>\n",
       "      <td>1955130</td>\n",
       "      <td>164468</td>\n",
       "      <td>-33.8940</td>\n",
       "      <td>30</td>\n",
       "    </tr>\n",
       "    <tr>\n",
       "      <th>3</th>\n",
       "      <td>10017243</td>\n",
       "      <td>Yellow Cab</td>\n",
       "      <td>CHICAGO IL</td>\n",
       "      <td>3.12</td>\n",
       "      <td>43.85</td>\n",
       "      <td>44.9280</td>\n",
       "      <td>5785</td>\n",
       "      <td>Card</td>\n",
       "      <td>Male</td>\n",
       "      <td>21</td>\n",
       "      <td>11230</td>\n",
       "      <td>1955130</td>\n",
       "      <td>164468</td>\n",
       "      <td>-1.0780</td>\n",
       "      <td>30</td>\n",
       "    </tr>\n",
       "    <tr>\n",
       "      <th>4</th>\n",
       "      <td>10020919</td>\n",
       "      <td>Yellow Cab</td>\n",
       "      <td>CHICAGO IL</td>\n",
       "      <td>39.52</td>\n",
       "      <td>613.27</td>\n",
       "      <td>564.3456</td>\n",
       "      <td>5785</td>\n",
       "      <td>Cash</td>\n",
       "      <td>Male</td>\n",
       "      <td>21</td>\n",
       "      <td>11230</td>\n",
       "      <td>1955130</td>\n",
       "      <td>164468</td>\n",
       "      <td>48.9244</td>\n",
       "      <td>30</td>\n",
       "    </tr>\n",
       "    <tr>\n",
       "      <th>...</th>\n",
       "      <td>...</td>\n",
       "      <td>...</td>\n",
       "      <td>...</td>\n",
       "      <td>...</td>\n",
       "      <td>...</td>\n",
       "      <td>...</td>\n",
       "      <td>...</td>\n",
       "      <td>...</td>\n",
       "      <td>...</td>\n",
       "      <td>...</td>\n",
       "      <td>...</td>\n",
       "      <td>...</td>\n",
       "      <td>...</td>\n",
       "      <td>...</td>\n",
       "      <td>...</td>\n",
       "    </tr>\n",
       "    <tr>\n",
       "      <th>87110</th>\n",
       "      <td>10370514</td>\n",
       "      <td>Yellow Cab</td>\n",
       "      <td>WASHINGTON DC</td>\n",
       "      <td>11.77</td>\n",
       "      <td>157.45</td>\n",
       "      <td>163.8384</td>\n",
       "      <td>53241</td>\n",
       "      <td>Cash</td>\n",
       "      <td>Female</td>\n",
       "      <td>47</td>\n",
       "      <td>24390</td>\n",
       "      <td>418859</td>\n",
       "      <td>127001</td>\n",
       "      <td>-6.3884</td>\n",
       "      <td>29</td>\n",
       "    </tr>\n",
       "    <tr>\n",
       "      <th>87111</th>\n",
       "      <td>10370520</td>\n",
       "      <td>Yellow Cab</td>\n",
       "      <td>WASHINGTON DC</td>\n",
       "      <td>38.76</td>\n",
       "      <td>626.22</td>\n",
       "      <td>520.9344</td>\n",
       "      <td>53241</td>\n",
       "      <td>Card</td>\n",
       "      <td>Female</td>\n",
       "      <td>47</td>\n",
       "      <td>24390</td>\n",
       "      <td>418859</td>\n",
       "      <td>127001</td>\n",
       "      <td>105.2856</td>\n",
       "      <td>29</td>\n",
       "    </tr>\n",
       "    <tr>\n",
       "      <th>87112</th>\n",
       "      <td>10384337</td>\n",
       "      <td>Yellow Cab</td>\n",
       "      <td>WASHINGTON DC</td>\n",
       "      <td>3.03</td>\n",
       "      <td>52.55</td>\n",
       "      <td>39.9960</td>\n",
       "      <td>53241</td>\n",
       "      <td>Card</td>\n",
       "      <td>Female</td>\n",
       "      <td>47</td>\n",
       "      <td>24390</td>\n",
       "      <td>418859</td>\n",
       "      <td>127001</td>\n",
       "      <td>12.5540</td>\n",
       "      <td>29</td>\n",
       "    </tr>\n",
       "    <tr>\n",
       "      <th>87113</th>\n",
       "      <td>10399374</td>\n",
       "      <td>Yellow Cab</td>\n",
       "      <td>WASHINGTON DC</td>\n",
       "      <td>15.68</td>\n",
       "      <td>273.72</td>\n",
       "      <td>197.5680</td>\n",
       "      <td>53241</td>\n",
       "      <td>Cash</td>\n",
       "      <td>Female</td>\n",
       "      <td>47</td>\n",
       "      <td>24390</td>\n",
       "      <td>418859</td>\n",
       "      <td>127001</td>\n",
       "      <td>76.1520</td>\n",
       "      <td>29</td>\n",
       "    </tr>\n",
       "    <tr>\n",
       "      <th>87114</th>\n",
       "      <td>10403438</td>\n",
       "      <td>Yellow Cab</td>\n",
       "      <td>WASHINGTON DC</td>\n",
       "      <td>15.75</td>\n",
       "      <td>271.16</td>\n",
       "      <td>189.0000</td>\n",
       "      <td>53241</td>\n",
       "      <td>Cash</td>\n",
       "      <td>Female</td>\n",
       "      <td>47</td>\n",
       "      <td>24390</td>\n",
       "      <td>418859</td>\n",
       "      <td>127001</td>\n",
       "      <td>82.1600</td>\n",
       "      <td>29</td>\n",
       "    </tr>\n",
       "  </tbody>\n",
       "</table>\n",
       "<p>87115 rows × 15 columns</p>\n",
       "</div>"
      ],
      "text/plain": [
       "       Transaction ID     Company           City  KM Travelled  Price Charged  \\\n",
       "0            10000038    Pink Cab     CHICAGO IL         39.55         540.93   \n",
       "1            10006119  Yellow Cab     CHICAGO IL         10.89         190.14   \n",
       "2            10017166  Yellow Cab     CHICAGO IL         40.70         508.23   \n",
       "3            10017243  Yellow Cab     CHICAGO IL          3.12          43.85   \n",
       "4            10020919  Yellow Cab     CHICAGO IL         39.52         613.27   \n",
       "...               ...         ...            ...           ...            ...   \n",
       "87110        10370514  Yellow Cab  WASHINGTON DC         11.77         157.45   \n",
       "87111        10370520  Yellow Cab  WASHINGTON DC         38.76         626.22   \n",
       "87112        10384337  Yellow Cab  WASHINGTON DC          3.03          52.55   \n",
       "87113        10399374  Yellow Cab  WASHINGTON DC         15.68         273.72   \n",
       "87114        10403438  Yellow Cab  WASHINGTON DC         15.75         271.16   \n",
       "\n",
       "       Cost of Trip  Customer ID Payment_Mode  Gender  Age  \\\n",
       "0          454.8250         5785         Card    Male   21   \n",
       "1          139.8276         5785         Card    Male   21   \n",
       "2          542.1240         5785         Card    Male   21   \n",
       "3           44.9280         5785         Card    Male   21   \n",
       "4          564.3456         5785         Cash    Male   21   \n",
       "...             ...          ...          ...     ...  ...   \n",
       "87110      163.8384        53241         Cash  Female   47   \n",
       "87111      520.9344        53241         Card  Female   47   \n",
       "87112       39.9960        53241         Card  Female   47   \n",
       "87113      197.5680        53241         Cash  Female   47   \n",
       "87114      189.0000        53241         Cash  Female   47   \n",
       "\n",
       "       Income (USD/Month)  Population   Users    Profit  Order Count  \n",
       "0                   11230     1955130  164468   86.1050           30  \n",
       "1                   11230     1955130  164468   50.3124           30  \n",
       "2                   11230     1955130  164468  -33.8940           30  \n",
       "3                   11230     1955130  164468   -1.0780           30  \n",
       "4                   11230     1955130  164468   48.9244           30  \n",
       "...                   ...         ...     ...       ...          ...  \n",
       "87110               24390      418859  127001   -6.3884           29  \n",
       "87111               24390      418859  127001  105.2856           29  \n",
       "87112               24390      418859  127001   12.5540           29  \n",
       "87113               24390      418859  127001   76.1520           29  \n",
       "87114               24390      418859  127001   82.1600           29  \n",
       "\n",
       "[87115 rows x 15 columns]"
      ]
     },
     "execution_count": 42,
     "metadata": {},
     "output_type": "execute_result"
    }
   ],
   "source": [
    "# Calculate the number of orders per customer\n",
    "loyal_users = df.groupby('Customer ID').agg({'Transaction ID' : 'count'}).rename(columns={'Transaction ID' : 'Order Count'})\n",
    "# Sort values\n",
    "loyal_users = loyal_users.sort_values(by='Order Count', ascending=False)\n",
    "# Choose top 5% users as loyal users\n",
    "threshold = loyal_users['Order Count'].quantile(0.95)\n",
    "loyal_users = loyal_users[loyal_users['Order Count'] >= threshold]\n",
    "# Merge with the df table to get more details\n",
    "loyal_users = pd.merge(df, loyal_users, on='Customer ID')\n",
    "loyal_users"
   ]
  },
  {
   "cell_type": "code",
   "execution_count": 43,
   "metadata": {},
   "outputs": [
    {
     "data": {
      "text/html": [
       "<div>\n",
       "<style scoped>\n",
       "    .dataframe tbody tr th:only-of-type {\n",
       "        vertical-align: middle;\n",
       "    }\n",
       "\n",
       "    .dataframe tbody tr th {\n",
       "        vertical-align: top;\n",
       "    }\n",
       "\n",
       "    .dataframe thead tr th {\n",
       "        text-align: left;\n",
       "    }\n",
       "\n",
       "    .dataframe thead tr:last-of-type th {\n",
       "        text-align: right;\n",
       "    }\n",
       "</style>\n",
       "<table border=\"1\" class=\"dataframe\">\n",
       "  <thead>\n",
       "    <tr>\n",
       "      <th></th>\n",
       "      <th colspan=\"4\" halign=\"left\">Order Count</th>\n",
       "    </tr>\n",
       "    <tr>\n",
       "      <th>City</th>\n",
       "      <th>CHICAGO IL</th>\n",
       "      <th>LOS ANGELES CA</th>\n",
       "      <th>NEW YORK NY</th>\n",
       "      <th>WASHINGTON DC</th>\n",
       "    </tr>\n",
       "    <tr>\n",
       "      <th>Company</th>\n",
       "      <th></th>\n",
       "      <th></th>\n",
       "      <th></th>\n",
       "      <th></th>\n",
       "    </tr>\n",
       "  </thead>\n",
       "  <tbody>\n",
       "    <tr>\n",
       "      <th>Pink Cab</th>\n",
       "      <td>293</td>\n",
       "      <td>123</td>\n",
       "      <td>11867</td>\n",
       "      <td>13</td>\n",
       "    </tr>\n",
       "    <tr>\n",
       "      <th>Yellow Cab</th>\n",
       "      <td>1458</td>\n",
       "      <td>148</td>\n",
       "      <td>73109</td>\n",
       "      <td>104</td>\n",
       "    </tr>\n",
       "  </tbody>\n",
       "</table>\n",
       "</div>"
      ],
      "text/plain": [
       "           Order Count                                         \n",
       "City        CHICAGO IL LOS ANGELES CA NEW YORK NY WASHINGTON DC\n",
       "Company                                                        \n",
       "Pink Cab           293            123       11867            13\n",
       "Yellow Cab        1458            148       73109           104"
      ]
     },
     "execution_count": 43,
     "metadata": {},
     "output_type": "execute_result"
    }
   ],
   "source": [
    "# Calculate the number of loyal customers for each company and city\n",
    "loyal_stats = loyal_users.groupby(['Company', 'City']).agg({'Transaction ID' : 'count'}).rename(columns={'Transaction ID' : 'Order Count'}).unstack()\n",
    "loyal_stats"
   ]
  },
  {
   "cell_type": "code",
   "execution_count": 44,
   "metadata": {},
   "outputs": [
    {
     "data": {
      "image/png": "[encoded data removed]",
      "text/plain": [
       "<Figure size 1000x700 with 1 Axes>"
      ]
     },
     "metadata": {},
     "output_type": "display_data"
    }
   ],
   "source": [
    "loyal_stats.plot(kind='bar', stacked=True, figsize=(10, 7))\n",
    "plt.show()"
   ]
  },
  {
   "cell_type": "markdown",
   "metadata": {},
   "source": [
    "Price Sensitivity: Are there differences in the average price charged per kilometer between the two cab companies, and what might this indicate about their pricing strategies or customer preferences? This could help in understanding the competitive positioning of each company."
   ]
  },
  {
   "cell_type": "code",
   "execution_count": 45,
   "metadata": {},
   "outputs": [
    {
     "data": {
      "text/html": [
       "<div>\n",
       "<style scoped>\n",
       "    .dataframe tbody tr th:only-of-type {\n",
       "        vertical-align: middle;\n",
       "    }\n",
       "\n",
       "    .dataframe tbody tr th {\n",
       "        vertical-align: top;\n",
       "    }\n",
       "\n",
       "    .dataframe thead th {\n",
       "        text-align: right;\n",
       "    }\n",
       "</style>\n",
       "<table border=\"1\" class=\"dataframe\">\n",
       "  <thead>\n",
       "    <tr style=\"text-align: right;\">\n",
       "      <th></th>\n",
       "      <th>Company</th>\n",
       "      <th>Price Per KM</th>\n",
       "    </tr>\n",
       "  </thead>\n",
       "  <tbody>\n",
       "    <tr>\n",
       "      <th>0</th>\n",
       "      <td>Pink Cab</td>\n",
       "      <td>13.768510</td>\n",
       "    </tr>\n",
       "    <tr>\n",
       "      <th>1</th>\n",
       "      <td>Yellow Cab</td>\n",
       "      <td>20.306073</td>\n",
       "    </tr>\n",
       "  </tbody>\n",
       "</table>\n",
       "</div>"
      ],
      "text/plain": [
       "      Company  Price Per KM\n",
       "0    Pink Cab     13.768510\n",
       "1  Yellow Cab     20.306073"
      ]
     },
     "execution_count": 45,
     "metadata": {},
     "output_type": "execute_result"
    }
   ],
   "source": [
    "# Calculate Price Per Kilometer for each ride\n",
    "df['Price Per KM'] = df['Price Charged'] / df['KM Travelled']\n",
    "\n",
    "# Calculate mean price per kilometer group by company\n",
    "price_km_stats = df.groupby('Company').agg({'Price Per KM' : 'mean'}).reset_index()\n",
    "price_km_stats"
   ]
  },
  {
   "cell_type": "code",
   "execution_count": 46,
   "metadata": {},
   "outputs": [
    {
     "data": {
      "image/png": "[encoded data removed]",
      "text/plain": [
       "<Figure size 640x480 with 1 Axes>"
      ]
     },
     "metadata": {},
     "output_type": "display_data"
    }
   ],
   "source": [
    "sns.barplot(x='Company', y='Price Per KM', data=price_km_stats)\n",
    "plt.title('Average Price Charged Per Kilometer by Company')\n",
    "plt.ylabel('Average Price Per Kilometer')\n",
    "plt.show()"
   ]
  },
  {
   "cell_type": "markdown",
   "metadata": {},
   "source": [
    "Profitability Analysis: Which company shows better operational efficiency based on the ratio of price charged to the cost of the trip? This analysis might reveal which company manages its resources more effectively, potentially making it a more attractive investment."
   ]
  },
  {
   "cell_type": "code",
   "execution_count": 29,
   "metadata": {},
   "outputs": [
    {
     "data": {
      "text/html": [
       "<div>\n",
       "<style scoped>\n",
       "    .dataframe tbody tr th:only-of-type {\n",
       "        vertical-align: middle;\n",
       "    }\n",
       "\n",
       "    .dataframe tbody tr th {\n",
       "        vertical-align: top;\n",
       "    }\n",
       "\n",
       "    .dataframe thead th {\n",
       "        text-align: right;\n",
       "    }\n",
       "</style>\n",
       "<table border=\"1\" class=\"dataframe\">\n",
       "  <thead>\n",
       "    <tr style=\"text-align: right;\">\n",
       "      <th></th>\n",
       "      <th>Profitability</th>\n",
       "    </tr>\n",
       "    <tr>\n",
       "      <th>Company</th>\n",
       "      <th></th>\n",
       "    </tr>\n",
       "  </thead>\n",
       "  <tbody>\n",
       "    <tr>\n",
       "      <th>Pink Cab</th>\n",
       "      <td>0.255596</td>\n",
       "    </tr>\n",
       "    <tr>\n",
       "      <th>Yellow Cab</th>\n",
       "      <td>0.542966</td>\n",
       "    </tr>\n",
       "  </tbody>\n",
       "</table>\n",
       "</div>"
      ],
      "text/plain": [
       "            Profitability\n",
       "Company                  \n",
       "Pink Cab         0.255596\n",
       "Yellow Cab       0.542966"
      ]
     },
     "execution_count": 29,
     "metadata": {},
     "output_type": "execute_result"
    }
   ],
   "source": [
    "df['Profitability'] = df['Profit'] / df['Cost of Trip']\n",
    "profit_stats = df.groupby('Company').agg({'Profitability' : 'mean'})\n",
    "profit_stats"
   ]
  },
  {
   "cell_type": "code",
   "execution_count": 30,
   "metadata": {},
   "outputs": [
    {
     "data": {
      "image/png": "[encoded data removed]",
      "text/plain": [
       "<Figure size 1000x700 with 1 Axes>"
      ]
     },
     "metadata": {},
     "output_type": "display_data"
    }
   ],
   "source": [
    "profit_stats.plot(kind='bar', stacked=True, figsize=(10, 7))\n",
    "plt.show()"
   ]
  }
 ],
 "metadata": {
  "kernelspec": {
   "display_name": "base",
   "language": "python",
   "name": "python3"
  },
  "language_info": {
   "codemirror_mode": {
    "name": "ipython",
    "version": 3
   },
   "file_extension": ".py",
   "mimetype": "text/x-python",
   "name": "python",
   "nbconvert_exporter": "python",
   "pygments_lexer": "ipython3",
   "version": "3.10.9"
  }
 },
 "nbformat": 4,
 "nbformat_minor": 2
}
